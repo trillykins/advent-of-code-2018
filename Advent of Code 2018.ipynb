{
 "cells": [
  {
   "cell_type": "markdown",
   "metadata": {},
   "source": [
    "# Day 1"
   ]
  },
  {
   "cell_type": "code",
   "execution_count": 30,
   "metadata": {},
   "outputs": [
    {
     "name": "stdout",
     "output_type": "stream",
     "text": [
      "516\n"
     ]
    }
   ],
   "source": [
    "print sum([int(line) for line in open(\"day1.txt\", \"r\").readlines()])"
   ]
  },
  {
   "cell_type": "code",
   "execution_count": 49,
   "metadata": {},
   "outputs": [
    {
     "name": "stdout",
     "output_type": "stream",
     "text": [
      " 71892\n"
     ]
    }
   ],
   "source": [
    "import time\n",
    "freq = 0\n",
    "freqs = {}\n",
    "found = False\n",
    "lines = open(\"day1.txt\", \"r\").readlines()\n",
    "while found == False:\n",
    "    for a in lines:\n",
    "        freq += int(a)\n",
    "        if freq in freqs:\n",
    "            print freq\n",
    "            found = True\n",
    "            break;\n",
    "        else:\n",
    "            freqs[freq] = 1"
   ]
  },
  {
   "cell_type": "markdown",
   "metadata": {},
   "source": [
    "# Day 2"
   ]
  },
  {
   "cell_type": "code",
   "execution_count": 31,
   "metadata": {},
   "outputs": [
    {
     "name": "stdout",
     "output_type": "stream",
     "text": [
      "7688\n"
     ]
    }
   ],
   "source": [
    "a = 0\n",
    "b = 0\n",
    "lines = open(\"day2.txt\", \"r\").readlines()\n",
    "for line in lines:\n",
    "    a_found = False\n",
    "    b_found = False \n",
    "    for char in list(set(line)):\n",
    "        if line.count(char) == 2 and a_found == False:\n",
    "            a += 1\n",
    "            a_found = True\n",
    "        if line.count(char) == 3 and b_found == False:\n",
    "            b += 1\n",
    "            b_found = True\n",
    "\n",
    "print a * b"
   ]
  },
  {
   "cell_type": "code",
   "execution_count": 64,
   "metadata": {},
   "outputs": [
    {
     "name": "stdout",
     "output_type": "stream",
     "text": [
      "lsrivmotzbdxpkxnaqmuwcchj\n"
     ]
    }
   ],
   "source": [
    "lines = open(\"day2.txt\", \"r\").readlines()\n",
    "found = False\n",
    "for a in lines:\n",
    "    for b in lines:\n",
    "        diff = [i for i in xrange(len(a.strip())) if a[i] != b[i]]\n",
    "        if len(diff) == 1:\n",
    "            print a[:22] + a[23:].strip()\n",
    "            found = True\n",
    "    if found:\n",
    "        break"
   ]
  },
  {
   "cell_type": "markdown",
   "metadata": {},
   "source": [
    "# Day 3"
   ]
  },
  {
   "cell_type": "code",
   "execution_count": 103,
   "metadata": {},
   "outputs": [
    {
     "name": "stdout",
     "output_type": "stream",
     "text": [
      "110891\n"
     ]
    }
   ],
   "source": [
    "overlaps = {}\n",
    "\n",
    "for a in open(\"day3.txt\", \"r\").readlines():\n",
    "    left, top = a[a.find('@')+1:a.find(':')].strip().split(',')\n",
    "    width, height = a[a.find(':')+1:].strip().split('x')\n",
    "    for i in range(int(left), int(left) + int(width), 1):\n",
    "        for j in range(int(top), int(top) + int(height), 1):\n",
    "            if (i, j) in overlaps:\n",
    "                overlaps[(i, j)] = 1\n",
    "            else:\n",
    "                overlaps[i, j] = 0\n",
    "print sum(overlaps.values())"
   ]
  },
  {
   "cell_type": "code",
   "execution_count": null,
   "metadata": {
    "collapsed": true
   },
   "outputs": [],
   "source": []
  },
  {
   "cell_type": "code",
   "execution_count": null,
   "metadata": {
    "collapsed": true
   },
   "outputs": [],
   "source": []
  },
  {
   "cell_type": "code",
   "execution_count": null,
   "metadata": {
    "collapsed": true
   },
   "outputs": [],
   "source": []
  },
  {
   "cell_type": "code",
   "execution_count": null,
   "metadata": {
    "collapsed": true
   },
   "outputs": [],
   "source": []
  }
 ],
 "metadata": {
  "kernelspec": {
   "display_name": "Python 2",
   "language": "python",
   "name": "python2"
  },
  "language_info": {
   "codemirror_mode": {
    "name": "ipython",
    "version": 2
   },
   "file_extension": ".py",
   "mimetype": "text/x-python",
   "name": "python",
   "nbconvert_exporter": "python",
   "pygments_lexer": "ipython2",
   "version": "2.7.13"
  }
 },
 "nbformat": 4,
 "nbformat_minor": 2
}
