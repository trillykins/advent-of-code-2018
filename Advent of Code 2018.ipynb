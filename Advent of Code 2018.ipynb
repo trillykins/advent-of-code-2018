{
 "cells": [
  {
   "cell_type": "markdown",
   "metadata": {},
   "source": [
    "# Day 1"
   ]
  },
  {
   "cell_type": "code",
   "execution_count": 30,
   "metadata": {},
   "outputs": [
    {
     "name": "stdout",
     "output_type": "stream",
     "text": [
      "516\n"
     ]
    }
   ],
   "source": [
    "print sum([int(line) for line in open(\"day1.txt\", \"r\").readlines()])"
   ]
  },
  {
   "cell_type": "code",
   "execution_count": 44,
   "metadata": {},
   "outputs": [
    {
     "name": "stdout",
     "output_type": "stream",
     "text": [
      "71892\n"
     ]
    }
   ],
   "source": [
    "import time\n",
    "freq = 0\n",
    "freqs = {}\n",
    "found = False\n",
    "lines = open(\"day1.txt\", \"r\").readlines()\n",
    "while found == False:\n",
    "    for a in lines:\n",
    "        freq += int(a)\n",
    "        if freq in freqs:\n",
    "            print freq\n",
    "            found = True\n",
    "            break;\n",
    "        else:\n",
    "            freqs[freq] = 1"
   ]
  },
  {
   "cell_type": "markdown",
   "metadata": {},
   "source": [
    "# Day 2"
   ]
  },
  {
   "cell_type": "code",
   "execution_count": 67,
   "metadata": {},
   "outputs": [
    {
     "name": "stdout",
     "output_type": "stream",
     "text": [
      "7688\n"
     ]
    }
   ],
   "source": [
    "a = 0\n",
    "b = 0\n",
    "lines = open(\"day2.txt\", \"r\").readlines()\n",
    "for line in lines:\n",
    "    a_found = False\n",
    "    b_found = False \n",
    "    for char in list(set(line)):\n",
    "        if line.count(char) == 2 and a_found == False:\n",
    "            a += 1\n",
    "            a_found = True\n",
    "        if line.count(char) == 3 and b_found == False:\n",
    "            b += 1\n",
    "            b_found = True\n",
    "\n",
    "print a * b"
   ]
  },
  {
   "cell_type": "code",
   "execution_count": 64,
   "metadata": {},
   "outputs": [
    {
     "name": "stdout",
     "output_type": "stream",
     "text": [
      "lsrivmotzbdxpkxnaqmuwcchj\n"
     ]
    }
   ],
   "source": [
    "lines = open(\"day2.txt\", \"r\").readlines()\n",
    "found = False\n",
    "for a in lines:\n",
    "    for b in lines:\n",
    "        diff = [i for i in xrange(len(a.strip())) if a[i] != b[i]]\n",
    "        if len(diff) == 1:\n",
    "            print a[:22] + a[23:].strip()\n",
    "            found = True\n",
    "    if found:\n",
    "        break"
   ]
  },
  {
   "cell_type": "markdown",
   "metadata": {},
   "source": [
    "# Day 3"
   ]
  },
  {
   "cell_type": "code",
   "execution_count": 20,
   "metadata": {},
   "outputs": [
    {
     "name": "stdout",
     "output_type": "stream",
     "text": [
      "110891\n"
     ]
    }
   ],
   "source": [
    "overlaps = {}\n",
    "\n",
    "for a in open(\"day3.txt\", \"r\").readlines():\n",
    "    left, top = a[a.find('@')+1:a.find(':')].strip().split(',')\n",
    "    width, height = a[a.find(':')+1:].strip().split('x')\n",
    "    for i in range(int(left), int(left) + int(width), 1):\n",
    "        for j in range(int(top), int(top) + int(height), 1):\n",
    "            if (i, j) in overlaps:\n",
    "                overlaps[(i, j)] = 1\n",
    "            else:\n",
    "                overlaps[i, j] = 0\n",
    "print sum(overlaps.values())"
   ]
  },
  {
   "cell_type": "code",
   "execution_count": 10,
   "metadata": {},
   "outputs": [
    {
     "name": "stdout",
     "output_type": "stream",
     "text": [
      "#297\n"
     ]
    }
   ],
   "source": [
    "all_claims = set()\n",
    "claims = set()\n",
    "overlaps = {}\n",
    "splat = set()\n",
    "for a in open(\"day3.txt\", \"r\").readlines():\n",
    "    claim = a[:a.find('@')].strip()\n",
    "    all_claims.add(claim)\n",
    "    left, top = a[a.find('@')+1:a.find(':')].strip().split(',')\n",
    "    width, height = a[a.find(':')+1:].strip().split('x')\n",
    "    for i in range(int(left), int(left) + int(width), 1):\n",
    "        for j in range(int(top), int(top) + int(height), 1):\n",
    "            if (i, j) in overlaps:\n",
    "                splat.add(claim)\n",
    "                for a in overlaps[(i,j)]:\n",
    "                    splat.add(a)\n",
    "            else:\n",
    "                overlaps[i, j] = set([claim])\n",
    "print list(all_claims - splat)[0]"
   ]
  },
  {
   "cell_type": "markdown",
   "metadata": {
    "collapsed": true
   },
   "source": [
    "# Day 4"
   ]
  },
  {
   "cell_type": "code",
   "execution_count": 1,
   "metadata": {
    "scrolled": false
   },
   "outputs": [
    {
     "name": "stdout",
     "output_type": "stream",
     "text": [
      "Sleepiest guard: #179\n",
      "Sleepiest minute: 50\n",
      "Result: 8950\n"
     ]
    }
   ],
   "source": [
    "from datetime import datetime\n",
    "import operator\n",
    "import time\n",
    "\n",
    "guards = dict()\n",
    "guards_total = dict()\n",
    "\n",
    "dates = [x.strip() for x in open(\"day4.txt\", \"r\").readlines()]\n",
    "dates.sort()\n",
    "\n",
    "guard = \"\"\n",
    "for a in dates:\n",
    "    s = a.strip().split(' ')\n",
    "    if s[2] == \"Guard\":\n",
    "        guard = s[3]\n",
    "    elif s[2] == \"falls\":\n",
    "        asleep = int(a[15:17])\n",
    "    elif s[2] == \"wakes\":\n",
    "        awake = int(a[15:17])  #datetime.strptime(a[1:17], '%Y-%m-%d %H:%M')\n",
    "        if guard in guards:\n",
    "            for b in [x for x in range(asleep, awake)]:\n",
    "                guards[guard].append(b)\n",
    "            guards_total[guard] += awake-asleep\n",
    "        else:\n",
    "            guards[guard] = [x for x in range(asleep, awake)]\n",
    "            guards_total[guard] = awake-asleep\n",
    "\n",
    "largest = 0\n",
    "doodle = list()\n",
    "guard = \"\"\n",
    "for a in guards:\n",
    "    if guards_total[a] > largest:\n",
    "        largest = guards_total[a]\n",
    "        guard = a\n",
    "        doodle = guards[a]\n",
    "\n",
    "print \"Sleepiest guard:\", guard        \n",
    "largest = 0        \n",
    "#for a in set(guards[guard]):\n",
    "#    print a, int(guards[guard].count(a))\n",
    "\n",
    "bla = dict()\n",
    "for a in set(doodle):\n",
    "    bla[a] = int(doodle.count(a))\n",
    "print \"Sleepiest minute:\", int(max(zip(bla.values(), bla.keys()))[1])\n",
    "print \"Result:\", int(max(zip(bla.values(), bla.keys()))[1]) * int(guard[1:])"
   ]
  },
  {
   "cell_type": "code",
   "execution_count": 34,
   "metadata": {},
   "outputs": [
    {
     "name": "stdout",
     "output_type": "stream",
     "text": [
      "#1783 17\n",
      "78452\n"
     ]
    }
   ],
   "source": [
    "from datetime import datetime\n",
    "import operator\n",
    "import time\n",
    "\n",
    "guards = dict()\n",
    "\n",
    "dates = [x.strip() for x in open(\"day4.txt\", \"r\").readlines()]\n",
    "dates.sort()\n",
    "\n",
    "guard = \"\"\n",
    "for a in dates:\n",
    "    s = a.strip().split(' ')\n",
    "    if s[2] == \"Guard\":\n",
    "        guard = s[3]\n",
    "    elif s[2] == \"falls\":\n",
    "        asleep = int(a[15:17])\n",
    "    elif s[2] == \"wakes\":\n",
    "        awake = int(a[15:17])  #datetime.strptime(a[1:17], '%Y-%m-%d %H:%M')\n",
    "        if guard in guards:\n",
    "            for b in [x for x in range(asleep, awake)]:\n",
    "                guards[guard].append(b)\n",
    "        else:\n",
    "            guards[guard] = [x for x in range(asleep, awake)]\n",
    "\n",
    "no = 0\n",
    "largest = 0\n",
    "doodle = list()\n",
    "guard = \"\"\n",
    "for a in range(0, 60):\n",
    "    for b in guards:\n",
    "        if guards[b].count(a) > largest:\n",
    "            largest = guards[b].count(a)\n",
    "            no = a\n",
    "            guard = b\n",
    "            doodle = guards[b]\n",
    "print guard, largest\n",
    "print \"Result:\", int(guard[1:]) * no"
   ]
  },
  {
   "cell_type": "markdown",
   "metadata": {
    "collapsed": true
   },
   "source": [
    "# Day 5"
   ]
  },
  {
   "cell_type": "code",
   "execution_count": 77,
   "metadata": {},
   "outputs": [
    {
     "name": "stdout",
     "output_type": "stream",
     "text": [
      "11310\n"
     ]
    }
   ],
   "source": [
    "l = open(\"day5.txt\", \"r\").readlines()[0]\n",
    "\n",
    "c = list(set([x.lower() for x in set(l)]))\n",
    "c.sort()\n",
    "\n",
    "prev_size = len(l) + 1\n",
    "while prev_size != len(l):\n",
    "    prev_size = len(l)\n",
    "    for a in c:\n",
    "        l = l.replace(a.upper() + a, \"\")\n",
    "        l = l.replace(a + a.upper(), \"\")\n",
    "print len(l)"
   ]
  },
  {
   "cell_type": "code",
   "execution_count": 80,
   "metadata": {},
   "outputs": [
    {
     "name": "stdout",
     "output_type": "stream",
     "text": [
      "x 6020\n"
     ]
    }
   ],
   "source": [
    "lines = open(\"day5.txt\", \"r\").readlines()[0]\n",
    "\n",
    "c = list(set([x.lower() for x in set(lines)]))\n",
    "c.sort()\n",
    "\n",
    "results = dict()\n",
    "for b in c:\n",
    "    l = ''.join([x for x in lines if x.lower() != b])\n",
    "    prev_size = -1\n",
    "    while prev_size != len(l):\n",
    "        prev_size = len(l)\n",
    "        for a in c:\n",
    "            l = l.replace(a.upper() + a, \"\")\n",
    "            l = l.replace(a + a.upper(), \"\")\n",
    "    #print b, len(l)\n",
    "    results[b] = len(l)\n",
    "result = min(results, key=results.get)\n",
    "print result, results[result]"
   ]
  },
  {
   "cell_type": "markdown",
   "metadata": {
    "collapsed": true
   },
   "source": [
    "# [Day 6](https://adventofcode.com/2018/day/6)"
   ]
  },
  {
   "cell_type": "code",
   "execution_count": 37,
   "metadata": {},
   "outputs": [],
   "source": [
    "lines = [x.strip() for x in open(\"day6.txt\", \"r\").readlines()]\n",
    "\n",
    "x = [int(x.split(',')[0]) for x in lines]\n",
    "y = [int(y.split(',')[1]) for y in lines]\n",
    "\n",
    "m = {(x,y):0 for x, y in zip(x, y)}\n",
    "result = dict()\n",
    "#math.sqrt((a - key[0])**2 + (b - key[1])**2)\n",
    "for a in range(min(x), max(x)):\n",
    "    for b in range(min(y), max(y)):\n",
    "        shortest_value = 0\n",
    "        shortest_key = (0, 0)\n",
    "        for key, value in m.iteritems():\n",
    "            c = key[0]\n",
    "            d = key[1]\n",
    "            s = abs(a-c) + abs(b-d)\n",
    "            if shortest_value < s:\n",
    "                shortest_key = key\n",
    "            elif shortest_value == s and s != 0:\n",
    "                shortest_value = \".\"\n",
    "            result[(a,b)] = shortest_key"
   ]
  },
  {
   "cell_type": "code",
   "execution_count": 40,
   "metadata": {
    "scrolled": true
   },
   "outputs": [
    {
     "name": "stdout",
     "output_type": "stream",
     "text": [
      "set([(345, 42), (46, 42), (40, 173), (272, 42), (316, 42), (40, 179), (40, 264), (352, 42), (90, 42), (63, 42), (306, 42), (40, 217), (40, 302), (40, 66), (156, 42), (99, 42), (40, 255), (40, 308), (40, 104), (192, 42), (40, 346), (146, 42), (40, 142), (198, 42), (285, 42), (40, 148), (321, 42), (40, 186), (40, 271), (40, 234), (151, 42), (40, 192), (40, 277), (66, 42), (40, 73), (40, 230), (40, 315), (118, 42), (40, 111), (164, 42), (75, 42), (40, 321), (259, 42), (40, 60), (40, 117), (200, 42), (303, 42), (40, 155), (293, 42), (40, 161), (40, 42), (143, 42), (329, 42), (84, 42), (40, 199), (40, 284), (179, 42), (40, 48), (120, 42), (40, 237), (40, 290), (74, 42), (40, 86), (169, 42), (40, 243), (126, 42), (213, 42), (40, 124), (140, 42), (249, 42), (176, 42), (279, 42), (315, 42), (40, 168), (53, 42), (236, 42), (269, 42), (89, 42), (40, 206), (40, 259), (40, 55), (305, 42), (60, 42), (40, 212), (40, 297), (155, 42), (40, 93), (96, 42), (280, 42), (40, 335), (50, 42), (40, 99), (145, 42), (102, 42), (189, 42), (40, 137), (286, 42), (314, 42), (225, 42), (40, 175), (40, 181), (40, 266), (40, 62), (154, 42), (65, 42), (40, 77), (40, 219), (40, 272), (307, 42), (40, 68), (206, 42), (40, 225), (40, 310), (163, 42), (40, 106), (256, 42), (40, 348), (40, 112), (223, 42), (40, 150), (262, 42), (47, 42), (290, 42), (207, 42), (40, 188), (83, 42), (342, 42), (40, 194), (40, 279), (40, 75), (130, 42), (73, 42), (113, 42), (40, 232), (40, 317), (40, 81), (182, 42), (40, 323), (40, 119), (264, 42), (40, 157), (199, 42), (226, 42), (324, 42), (40, 163), (40, 44), (40, 201), (40, 286), (59, 42), (40, 50), (184, 42), (40, 239), (40, 292), (40, 88), (119, 42), (138, 42), (49, 42), (40, 213), (40, 245), (40, 330), (244, 42), (40, 344), (277, 42), (40, 336), (109, 42), (40, 132), (313, 42), (234, 42), (40, 170), (58, 42), (300, 42), (40, 176), (40, 261), (153, 42), (110, 42), (336, 42), (40, 214), (40, 299), (40, 95), (160, 42), (40, 252), (40, 305), (40, 101), (127, 42), (40, 258), (40, 343), (220, 42), (40, 139), (166, 42), (289, 42), (210, 42), (40, 183), (40, 268), (349, 42), (139, 42), (40, 221), (40, 274), (129, 42), (40, 70), (86, 42), (40, 227), (40, 312), (40, 108), (40, 296), (40, 114), (103, 42), (287, 42), (228, 42), (40, 152), (323, 42), (40, 92), (40, 190), (142, 42), (147, 42), (40, 196), (40, 281), (68, 42), (357, 42), (190, 42), (104, 42), (40, 319), (137, 42), (40, 83), (243, 42), (40, 240), (40, 325), (40, 121), (40, 249), (197, 42), (40, 159), (233, 42), (263, 42), (204, 42), (40, 165), (144, 42), (57, 42), (40, 46), (299, 42), (240, 42), (343, 42), (40, 203), (40, 256), (40, 52), (117, 42), (40, 209), (40, 294), (333, 42), (40, 90), (80, 42), (40, 247), (40, 332), (124, 42), (40, 96), (235, 42), (308, 42), (219, 42), (40, 338), (44, 42), (40, 134), (173, 42), (344, 42), (114, 42), (40, 172), (209, 42), (253, 42), (350, 42), (40, 178), (40, 263), (348, 42), (40, 59), (174, 42), (40, 301), (40, 65), (93, 42), (40, 254), (40, 307), (40, 103), (218, 42), (339, 42), (191, 42), (40, 345), (40, 141), (183, 42), (148, 42), (284, 42), (227, 42), (40, 147), (320, 42), (274, 42), (40, 185), (40, 270), (67, 42), (326, 42), (40, 223), (40, 276), (40, 72), (150, 42), (40, 229), (40, 314), (40, 110), (101, 42), (40, 320), (40, 116), (167, 42), (246, 42), (40, 154), (292, 42), (203, 42), (40, 160), (328, 42), (40, 198), (40, 283), (40, 79), (132, 42), (43, 42), (87, 42), (40, 236), (40, 289), (40, 85), (168, 42), (271, 42), (212, 42), (123, 42), (40, 242), (40, 327), (40, 123), (77, 42), (248, 42), (261, 42), (202, 42), (40, 129), (297, 42), (52, 42), (254, 42), (341, 42), (40, 167), (268, 42), (88, 42), (40, 205), (304, 42), (42, 42), (40, 54), (298, 42), (40, 211), (94, 42), (181, 42), (122, 42), (217, 42), (40, 334), (40, 98), (188, 42), (40, 340), (257, 42), (283, 42), (40, 136), (224, 42), (133, 42), (178, 42), (40, 174), (273, 42), (230, 42), (317, 42), (40, 180), (40, 265), (40, 61), (64, 42), (353, 42), (40, 218), (40, 303), (40, 67), (70, 42), (157, 42), (40, 224), (40, 309), (98, 42), (40, 105), (282, 42), (193, 42), (40, 347), (40, 143), (334, 42), (291, 42), (40, 149), (40, 328), (40, 187), (351, 42), (40, 193), (40, 278), (131, 42), (72, 42), (175, 42), (40, 216), (40, 231), (40, 316), (211, 42), (40, 80), (165, 42), (40, 322), (40, 118), (258, 42), (201, 42), (40, 156), (51, 42), (310, 42), (267, 42), (40, 162), (40, 43), (41, 42), (40, 200), (40, 285), (327, 42), (40, 49), (40, 130), (121, 42), (40, 238), (40, 291), (48, 42), (40, 87), (40, 244), (40, 329), (276, 42), (187, 42), (40, 125), (108, 42), (141, 42), (312, 42), (40, 57), (40, 131), (247, 42), (266, 42), (177, 42), (40, 169), (318, 42), (76, 42), (237, 42), (152, 42), (40, 207), (40, 260), (40, 56), (61, 42), (40, 298), (40, 94), (158, 42), (186, 42), (97, 42), (40, 251), (40, 304), (40, 100), (281, 42), (238, 42), (40, 342), (40, 138), (288, 42), (40, 144), (255, 42), (78, 42), (40, 182), (40, 267), (294, 42), (40, 63), (128, 42), (40, 220), (40, 273), (40, 69), (95, 42), (338, 42), (40, 226), (40, 311), (40, 107), (134, 42), (162, 42), (40, 349), (40, 113), (214, 42), (40, 151), (40, 189), (231, 42), (54, 42), (356, 42), (40, 195), (40, 280), (40, 76), (136, 42), (40, 74), (40, 233), (40, 318), (40, 82), (71, 42), (275, 42), (40, 324), (196, 42), (107, 42), (40, 120), (79, 42), (232, 42), (335, 42), (265, 42), (40, 158), (56, 42), (40, 164), (40, 45), (40, 202), (40, 287), (116, 42), (40, 51), (62, 42), (149, 42), (332, 42), (40, 208), (40, 293), (185, 42), (106, 42), (40, 246), (40, 331), (330, 42), (40, 127), (40, 250), (40, 257), (245, 42), (40, 337), (172, 42), (40, 133), (208, 42), (311, 42), (252, 42), (40, 171), (40, 145), (347, 42), (111, 42), (40, 177), (40, 262), (354, 42), (301, 42), (40, 58), (242, 42), (40, 215), (40, 300), (337, 42), (92, 42), (40, 64), (40, 253), (40, 306), (161, 42), (40, 102), (82, 42), (302, 42), (40, 140), (40, 341), (221, 42), (40, 146), (346, 42), (325, 42), (319, 42), (40, 184), (40, 269), (355, 42), (40, 222), (40, 275), (40, 71), (159, 42), (40, 228), (40, 313), (100, 42), (40, 109), (195, 42), (239, 42), (40, 115), (40, 126), (278, 42), (40, 153), (229, 42), (40, 191), (322, 42), (81, 42), (295, 42), (115, 42), (40, 197), (40, 282), (40, 78), (331, 42), (69, 42), (40, 235), (40, 288), (40, 84), (105, 42), (135, 42), (40, 241), (40, 326), (194, 42), (40, 122), (260, 42), (171, 42), (112, 42), (215, 42), (40, 128), (296, 42), (340, 42), (251, 42), (40, 166), (205, 42), (40, 47), (40, 89), (55, 42), (40, 204), (241, 42), (40, 53), (180, 42), (91, 42), (270, 42), (40, 210), (40, 295), (40, 91), (45, 42), (216, 42), (40, 248), (40, 333), (170, 42), (40, 97), (125, 42), (40, 339), (222, 42), (309, 42), (40, 135), (250, 42), (85, 42)])\n",
      "40 358 42 350\n",
      "97944\n",
      "97944\n"
     ]
    }
   ],
   "source": [
    "r = result.copy()\n",
    "to_delete = set()\n",
    "for key, value in result.iteritems():\n",
    "    if key[0] == min(x) or key[0] == max(x):\n",
    "        to_delete.add(key)\n",
    "    if key[1] == min(y) or key[1] == max(y):\n",
    "        to_delete.add(key)\n",
    "print to_delete   \n",
    "print min(x), max(x), min(y), max(y)\n",
    "for key, value in result.iteritems():\n",
    "    if value in to_delete:\n",
    "        print value\n",
    "        break\n",
    "print len(r)\n",
    "print len(result)"
   ]
  },
  {
   "cell_type": "code",
   "execution_count": null,
   "metadata": {
    "collapsed": true
   },
   "outputs": [],
   "source": []
  },
  {
   "cell_type": "code",
   "execution_count": null,
   "metadata": {
    "collapsed": true
   },
   "outputs": [],
   "source": []
  },
  {
   "cell_type": "code",
   "execution_count": null,
   "metadata": {
    "collapsed": true
   },
   "outputs": [],
   "source": []
  },
  {
   "cell_type": "code",
   "execution_count": null,
   "metadata": {
    "collapsed": true
   },
   "outputs": [],
   "source": []
  },
  {
   "cell_type": "code",
   "execution_count": null,
   "metadata": {
    "collapsed": true
   },
   "outputs": [],
   "source": []
  },
  {
   "cell_type": "code",
   "execution_count": null,
   "metadata": {
    "collapsed": true
   },
   "outputs": [],
   "source": []
  },
  {
   "cell_type": "code",
   "execution_count": null,
   "metadata": {
    "collapsed": true
   },
   "outputs": [],
   "source": []
  },
  {
   "cell_type": "code",
   "execution_count": null,
   "metadata": {
    "collapsed": true
   },
   "outputs": [],
   "source": []
  },
  {
   "cell_type": "code",
   "execution_count": null,
   "metadata": {
    "collapsed": true
   },
   "outputs": [],
   "source": []
  }
 ],
 "metadata": {
  "kernelspec": {
   "display_name": "Python 2",
   "language": "python",
   "name": "python2"
  },
  "language_info": {
   "codemirror_mode": {
    "name": "ipython",
    "version": 2
   },
   "file_extension": ".py",
   "mimetype": "text/x-python",
   "name": "python",
   "nbconvert_exporter": "python",
   "pygments_lexer": "ipython2",
   "version": "2.7.15"
  }
 },
 "nbformat": 4,
 "nbformat_minor": 2
}
