{
 "cells": [
  {
   "cell_type": "markdown",
   "metadata": {},
   "source": [
    "# Day 1"
   ]
  },
  {
   "cell_type": "code",
   "execution_count": 30,
   "metadata": {},
   "outputs": [
    {
     "name": "stdout",
     "output_type": "stream",
     "text": [
      "516\n"
     ]
    }
   ],
   "source": [
    "print sum([int(line) for line in open(\"day1.txt\", \"r\").readlines()])"
   ]
  },
  {
   "cell_type": "code",
   "execution_count": 44,
   "metadata": {},
   "outputs": [
    {
     "name": "stdout",
     "output_type": "stream",
     "text": [
      "71892\n"
     ]
    }
   ],
   "source": [
    "import time\n",
    "freq = 0\n",
    "freqs = {}\n",
    "found = False\n",
    "lines = open(\"day1.txt\", \"r\").readlines()\n",
    "while found == False:\n",
    "    for a in lines:\n",
    "        freq += int(a)\n",
    "        if freq in freqs:\n",
    "            print freq\n",
    "            found = True\n",
    "            break;\n",
    "        else:\n",
    "            freqs[freq] = 1"
   ]
  },
  {
   "cell_type": "markdown",
   "metadata": {},
   "source": [
    "# Day 2"
   ]
  },
  {
   "cell_type": "code",
   "execution_count": 67,
   "metadata": {},
   "outputs": [
    {
     "name": "stdout",
     "output_type": "stream",
     "text": [
      "7688\n"
     ]
    }
   ],
   "source": [
    "a = 0\n",
    "b = 0\n",
    "lines = open(\"day2.txt\", \"r\").readlines()\n",
    "for line in lines:\n",
    "    a_found = False\n",
    "    b_found = False \n",
    "    for char in list(set(line)):\n",
    "        if line.count(char) == 2 and a_found == False:\n",
    "            a += 1\n",
    "            a_found = True\n",
    "        if line.count(char) == 3 and b_found == False:\n",
    "            b += 1\n",
    "            b_found = True\n",
    "\n",
    "print a * b"
   ]
  },
  {
   "cell_type": "code",
   "execution_count": 64,
   "metadata": {},
   "outputs": [
    {
     "name": "stdout",
     "output_type": "stream",
     "text": [
      "lsrivmotzbdxpkxnaqmuwcchj\n"
     ]
    }
   ],
   "source": [
    "lines = open(\"day2.txt\", \"r\").readlines()\n",
    "found = False\n",
    "for a in lines:\n",
    "    for b in lines:\n",
    "        diff = [i for i in xrange(len(a.strip())) if a[i] != b[i]]\n",
    "        if len(diff) == 1:\n",
    "            print a[:22] + a[23:].strip()\n",
    "            found = True\n",
    "    if found:\n",
    "        break"
   ]
  },
  {
   "cell_type": "markdown",
   "metadata": {},
   "source": [
    "# Day 3"
   ]
  },
  {
   "cell_type": "code",
   "execution_count": 20,
   "metadata": {},
   "outputs": [
    {
     "name": "stdout",
     "output_type": "stream",
     "text": [
      "110891\n"
     ]
    }
   ],
   "source": [
    "overlaps = {}\n",
    "\n",
    "for a in open(\"day3.txt\", \"r\").readlines():\n",
    "    left, top = a[a.find('@')+1:a.find(':')].strip().split(',')\n",
    "    width, height = a[a.find(':')+1:].strip().split('x')\n",
    "    for i in range(int(left), int(left) + int(width), 1):\n",
    "        for j in range(int(top), int(top) + int(height), 1):\n",
    "            if (i, j) in overlaps:\n",
    "                overlaps[(i, j)] = 1\n",
    "            else:\n",
    "                overlaps[i, j] = 0\n",
    "print sum(overlaps.values())"
   ]
  },
  {
   "cell_type": "code",
   "execution_count": 10,
   "metadata": {},
   "outputs": [
    {
     "name": "stdout",
     "output_type": "stream",
     "text": [
      "#297\n"
     ]
    }
   ],
   "source": [
    "all_claims = set()\n",
    "claims = set()\n",
    "overlaps = {}\n",
    "splat = set()\n",
    "for a in open(\"day3.txt\", \"r\").readlines():\n",
    "    claim = a[:a.find('@')].strip()\n",
    "    all_claims.add(claim)\n",
    "    left, top = a[a.find('@')+1:a.find(':')].strip().split(',')\n",
    "    width, height = a[a.find(':')+1:].strip().split('x')\n",
    "    for i in range(int(left), int(left) + int(width), 1):\n",
    "        for j in range(int(top), int(top) + int(height), 1):\n",
    "            if (i, j) in overlaps:\n",
    "                splat.add(claim)\n",
    "                for a in overlaps[(i,j)]:\n",
    "                    splat.add(a)\n",
    "            else:\n",
    "                overlaps[i, j] = set([claim])\n",
    "print list(all_claims - splat)[0]"
   ]
  },
  {
   "cell_type": "markdown",
   "metadata": {
    "collapsed": true
   },
   "source": [
    "# Day 4"
   ]
  },
  {
   "cell_type": "code",
   "execution_count": 28,
   "metadata": {
    "scrolled": false
   },
   "outputs": [
    {
     "name": "stdout",
     "output_type": "stream",
     "text": [
      "1 1.0\n",
      "4 2.0\n",
      "2 4.0\n",
      "1 5.0\n",
      "3 7.0\n",
      "1 18.0\n",
      "1 13.0\n",
      "1 17.0\n",
      "1 50.0\n",
      "1 19.0\n",
      "1 20.0\n",
      "1 54.0\n",
      "1 25.0\n",
      "1 23.0\n",
      "1 36.0\n",
      "3 27.0\n",
      "1 28.0\n",
      "358.0\n"
     ]
    }
   ],
   "source": [
    "from datetime import datetime\n",
    "import operator\n",
    "\n",
    "guards = dict()\n",
    "\n",
    "dates = [x.strip() for x in open(\"day4.txt\", \"r\").readlines()]\n",
    "dates.sort()\n",
    "\n",
    "guard = \"\"\n",
    "for a in dates:\n",
    "    s = a.strip().split(' ')\n",
    "    if s[2] == \"Guard\":\n",
    "        guard = s[3]\n",
    "    elif s[2] == \"falls\":\n",
    "        asleep = datetime.strptime(a[1:17], '%Y-%m-%d %H:%M')\n",
    "    elif s[2] == \"wakes\":\n",
    "        awake = datetime.strptime(a[1:17], '%Y-%m-%d %H:%M')\n",
    "        if guard in guards:\n",
    "            guards[guard].append((awake - asleep).total_seconds() / 60)\n",
    "        else:\n",
    "            guards[guard] = [(awake - asleep).total_seconds() / 60]\n",
    "\n",
    "largest = 0\n",
    "doodle = list()\n",
    "wank = \"\"\n",
    "for a in guards:\n",
    "    if sum(guards[a]) > largest:\n",
    "        largest = sum(guards[a])\n",
    "        wank = a\n",
    "        doodle = guards[a]\n",
    "#print wank, largest, doodle\n",
    "bla = dict()\n",
    "for a in set(doodle):\n",
    "    bla[a] = int(doodle.count(a))\n",
    "    print bla[a], a\n",
    "#print bla    \n",
    "lazy = max(zip(bla.values(), bla.keys()))\n",
    "print lazy[1] * int(wank[1:])\n",
    "#print int(lazy[0]) * int(lazy[1][1:])"
   ]
  },
  {
   "cell_type": "code",
   "execution_count": null,
   "metadata": {},
   "outputs": [],
   "source": []
  },
  {
   "cell_type": "code",
   "execution_count": null,
   "metadata": {},
   "outputs": [],
   "source": []
  },
  {
   "cell_type": "code",
   "execution_count": null,
   "metadata": {
    "collapsed": true
   },
   "outputs": [],
   "source": []
  },
  {
   "cell_type": "code",
   "execution_count": null,
   "metadata": {
    "collapsed": true
   },
   "outputs": [],
   "source": []
  },
  {
   "cell_type": "code",
   "execution_count": null,
   "metadata": {
    "collapsed": true
   },
   "outputs": [],
   "source": []
  },
  {
   "cell_type": "code",
   "execution_count": null,
   "metadata": {
    "collapsed": true
   },
   "outputs": [],
   "source": []
  },
  {
   "cell_type": "code",
   "execution_count": null,
   "metadata": {
    "collapsed": true
   },
   "outputs": [],
   "source": []
  },
  {
   "cell_type": "code",
   "execution_count": null,
   "metadata": {
    "collapsed": true
   },
   "outputs": [],
   "source": []
  },
  {
   "cell_type": "code",
   "execution_count": null,
   "metadata": {
    "collapsed": true
   },
   "outputs": [],
   "source": []
  },
  {
   "cell_type": "code",
   "execution_count": null,
   "metadata": {
    "collapsed": true
   },
   "outputs": [],
   "source": []
  },
  {
   "cell_type": "code",
   "execution_count": null,
   "metadata": {
    "collapsed": true
   },
   "outputs": [],
   "source": []
  },
  {
   "cell_type": "code",
   "execution_count": null,
   "metadata": {
    "collapsed": true
   },
   "outputs": [],
   "source": []
  },
  {
   "cell_type": "code",
   "execution_count": null,
   "metadata": {
    "collapsed": true
   },
   "outputs": [],
   "source": []
  },
  {
   "cell_type": "code",
   "execution_count": null,
   "metadata": {
    "collapsed": true
   },
   "outputs": [],
   "source": []
  },
  {
   "cell_type": "code",
   "execution_count": null,
   "metadata": {
    "collapsed": true
   },
   "outputs": [],
   "source": []
  },
  {
   "cell_type": "code",
   "execution_count": null,
   "metadata": {
    "collapsed": true
   },
   "outputs": [],
   "source": []
  }
 ],
 "metadata": {
  "kernelspec": {
   "display_name": "Python 2",
   "language": "python",
   "name": "python2"
  },
  "language_info": {
   "codemirror_mode": {
    "name": "ipython",
    "version": 2
   },
   "file_extension": ".py",
   "mimetype": "text/x-python",
   "name": "python",
   "nbconvert_exporter": "python",
   "pygments_lexer": "ipython2",
   "version": "2.7.15"
  }
 },
 "nbformat": 4,
 "nbformat_minor": 2
}
