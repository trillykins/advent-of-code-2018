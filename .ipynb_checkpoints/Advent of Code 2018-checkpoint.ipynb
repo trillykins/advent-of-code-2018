{
 "cells": [
  {
   "cell_type": "markdown",
   "metadata": {},
   "source": [
    "# Day 1"
   ]
  },
  {
   "cell_type": "code",
   "execution_count": 30,
   "metadata": {},
   "outputs": [
    {
     "name": "stdout",
     "output_type": "stream",
     "text": [
      "516\n"
     ]
    }
   ],
   "source": [
    "print sum([int(line) for line in open(\"day1.txt\", \"r\").readlines()])"
   ]
  },
  {
   "cell_type": "code",
   "execution_count": 44,
   "metadata": {},
   "outputs": [
    {
     "name": "stdout",
     "output_type": "stream",
     "text": [
      "71892\n"
     ]
    }
   ],
   "source": [
    "import time\n",
    "freq = 0\n",
    "freqs = {}\n",
    "found = False\n",
    "lines = open(\"day1.txt\", \"r\").readlines()\n",
    "while found == False:\n",
    "    for a in lines:\n",
    "        freq += int(a)\n",
    "        if freq in freqs:\n",
    "            print freq\n",
    "            found = True\n",
    "            break;\n",
    "        else:\n",
    "            freqs[freq] = 1"
   ]
  },
  {
   "cell_type": "markdown",
   "metadata": {},
   "source": [
    "# Day 2"
   ]
  },
  {
   "cell_type": "code",
   "execution_count": 67,
   "metadata": {},
   "outputs": [
    {
     "name": "stdout",
     "output_type": "stream",
     "text": [
      "7688\n"
     ]
    }
   ],
   "source": [
    "a = 0\n",
    "b = 0\n",
    "lines = open(\"day2.txt\", \"r\").readlines()\n",
    "for line in lines:\n",
    "    a_found = False\n",
    "    b_found = False \n",
    "    for char in list(set(line)):\n",
    "        if line.count(char) == 2 and a_found == False:\n",
    "            a += 1\n",
    "            a_found = True\n",
    "        if line.count(char) == 3 and b_found == False:\n",
    "            b += 1\n",
    "            b_found = True\n",
    "\n",
    "print a * b"
   ]
  },
  {
   "cell_type": "code",
   "execution_count": 64,
   "metadata": {},
   "outputs": [
    {
     "name": "stdout",
     "output_type": "stream",
     "text": [
      "lsrivmotzbdxpkxnaqmuwcchj\n"
     ]
    }
   ],
   "source": [
    "lines = open(\"day2.txt\", \"r\").readlines()\n",
    "found = False\n",
    "for a in lines:\n",
    "    for b in lines:\n",
    "        diff = [i for i in xrange(len(a.strip())) if a[i] != b[i]]\n",
    "        if len(diff) == 1:\n",
    "            print a[:22] + a[23:].strip()\n",
    "            found = True\n",
    "    if found:\n",
    "        break"
   ]
  },
  {
   "cell_type": "markdown",
   "metadata": {},
   "source": [
    "# Day 3"
   ]
  },
  {
   "cell_type": "code",
   "execution_count": 20,
   "metadata": {},
   "outputs": [
    {
     "name": "stdout",
     "output_type": "stream",
     "text": [
      "110891\n"
     ]
    }
   ],
   "source": [
    "overlaps = {}\n",
    "\n",
    "for a in open(\"day3.txt\", \"r\").readlines():\n",
    "    left, top = a[a.find('@')+1:a.find(':')].strip().split(',')\n",
    "    width, height = a[a.find(':')+1:].strip().split('x')\n",
    "    for i in range(int(left), int(left) + int(width), 1):\n",
    "        for j in range(int(top), int(top) + int(height), 1):\n",
    "            if (i, j) in overlaps:\n",
    "                overlaps[(i, j)] = 1\n",
    "            else:\n",
    "                overlaps[i, j] = 0\n",
    "print sum(overlaps.values())"
   ]
  },
  {
   "cell_type": "code",
   "execution_count": 10,
   "metadata": {},
   "outputs": [
    {
     "name": "stdout",
     "output_type": "stream",
     "text": [
      "#297\n"
     ]
    }
   ],
   "source": [
    "all_claims = set()\n",
    "claims = set()\n",
    "overlaps = {}\n",
    "splat = set()\n",
    "for a in open(\"day3.txt\", \"r\").readlines():\n",
    "    claim = a[:a.find('@')].strip()\n",
    "    all_claims.add(claim)\n",
    "    left, top = a[a.find('@')+1:a.find(':')].strip().split(',')\n",
    "    width, height = a[a.find(':')+1:].strip().split('x')\n",
    "    for i in range(int(left), int(left) + int(width), 1):\n",
    "        for j in range(int(top), int(top) + int(height), 1):\n",
    "            if (i, j) in overlaps:\n",
    "                splat.add(claim)\n",
    "                for a in overlaps[(i,j)]:\n",
    "                    splat.add(a)\n",
    "            else:\n",
    "                overlaps[i, j] = set([claim])\n",
    "print list(all_claims - splat)[0]"
   ]
  },
  {
   "cell_type": "markdown",
   "metadata": {
    "collapsed": true
   },
   "source": [
    "# Day 4"
   ]
  },
  {
   "cell_type": "code",
   "execution_count": 50,
   "metadata": {
    "scrolled": false
   },
   "outputs": [
    {
     "name": "stdout",
     "output_type": "stream",
     "text": [
      "[1518-04-14 00:03] falls asleep\n",
      "[1518-04-14 00:30] wakes up\n",
      "27.0\n",
      "[1518-04-14 00:40] falls asleep\n",
      "[1518-04-14 00:57] wakes up\n",
      "44.0\n",
      "[1518-04-15 00:39] falls asleep\n",
      "[1518-04-15 00:46] wakes up\n",
      "51.0\n",
      "[1518-04-15 00:54] falls asleep\n",
      "[1518-04-15 00:58] wakes up\n",
      "55.0\n",
      "[1518-04-16 00:01] falls asleep\n",
      "[1518-04-16 00:55] wakes up\n",
      "109.0\n",
      "[1518-05-11 00:55] falls asleep\n",
      "[1518-05-11 00:59] wakes up\n",
      "113.0\n",
      "[1518-05-17 00:21] falls asleep\n",
      "[1518-05-17 00:57] wakes up\n",
      "149.0\n",
      "[1518-06-03 00:25] falls asleep\n",
      "[1518-06-03 00:44] wakes up\n",
      "168.0\n",
      "[1518-06-03 00:50] falls asleep\n",
      "[1518-06-03 00:52] wakes up\n",
      "170.0\n",
      "[1518-06-05 00:49] falls asleep\n",
      "[1518-06-05 00:51] wakes up\n",
      "172.0\n",
      "[1518-06-13 00:24] falls asleep\n",
      "[1518-06-13 00:44] wakes up\n",
      "192.0\n",
      "[1518-06-13 00:49] falls asleep\n",
      "[1518-06-13 00:56] wakes up\n",
      "199.0\n",
      "[1518-07-05 00:45] falls asleep\n",
      "[1518-07-05 00:58] wakes up\n",
      "212.0\n",
      "[1518-07-11 00:09] falls asleep\n",
      "[1518-07-11 00:59] wakes up\n",
      "262.0\n",
      "[1518-07-26 00:11] falls asleep\n",
      "[1518-07-26 00:18] wakes up\n",
      "269.0\n",
      "[1518-07-26 00:32] falls asleep\n",
      "[1518-07-26 00:57] wakes up\n",
      "294.0\n",
      "[1518-08-24 00:32] falls asleep\n",
      "[1518-08-24 00:33] wakes up\n",
      "295.0\n",
      "[1518-09-24 00:14] falls asleep\n",
      "[1518-09-24 00:41] wakes up\n",
      "322.0\n",
      "[1518-09-29 00:08] falls asleep\n",
      "[1518-09-29 00:35] wakes up\n",
      "349.0\n",
      "[1518-09-29 00:41] falls asleep\n",
      "[1518-09-29 00:59] wakes up\n",
      "367.0\n",
      "[1518-10-24 00:28] falls asleep\n",
      "[1518-10-24 00:56] wakes up\n",
      "395.0\n",
      "[1518-10-31 00:27] falls asleep\n",
      "[1518-10-31 00:32] wakes up\n",
      "400.0\n",
      "[1518-11-08 00:28] falls asleep\n",
      "[1518-11-08 00:51] wakes up\n",
      "423.0\n",
      "[1518-11-08 00:56] falls asleep\n",
      "[1518-11-08 00:58] wakes up\n",
      "425.0\n",
      "[1518-11-13 00:56] falls asleep\n",
      "[1518-11-13 00:58] wakes up\n",
      "427.0\n",
      "(427.0, '#179')\n",
      "76433\n"
     ]
    }
   ],
   "source": [
    "from datetime import datetime\n",
    "import operator\n",
    "\n",
    "guards = dict()\n",
    "\n",
    "dates = [x.strip() for x in open(\"day4.txt\", \"r\").readlines()]\n",
    "dates.sort()\n",
    "\n",
    "guard = \"\"\n",
    "for a in dates:\n",
    "    s = a.strip().split(' ')\n",
    "    if s[2] == \"Guard\":\n",
    "        guard = s[3]\n",
    "    elif s[2] == \"falls\":\n",
    "        asleep = datetime.strptime(a[1:17], '%Y-%m-%d %H:%M')\n",
    "        if guard == '#179':\n",
    "            print a\n",
    "    elif s[2] == \"wakes\":\n",
    "        if guard == '#179':\n",
    "            print a\n",
    "        awake = datetime.strptime(a[1:17], '%Y-%m-%d %H:%M')\n",
    "        if guard in guards:\n",
    "            guards[guard] += (awake - asleep).total_seconds() / 60\n",
    "            if guard == '#179':\n",
    "                print guards[guard]\n",
    "                time.sleep(1)\n",
    "        else:\n",
    "            guards[guard] = (awake - asleep).total_seconds() / 60\n",
    "            if guard == '#179':\n",
    "                print guards[guard]\n",
    "                time.sleep(1)\n",
    "\n",
    "lazy = max(zip(guards.values(), guards.keys()))\n",
    "print lazy\n",
    "print int(lazy[0]) * int(lazy[1][1:])"
   ]
  },
  {
   "cell_type": "code",
   "execution_count": null,
   "metadata": {
    "collapsed": true
   },
   "outputs": [],
   "source": []
  },
  {
   "cell_type": "code",
   "execution_count": null,
   "metadata": {
    "collapsed": true
   },
   "outputs": [],
   "source": []
  },
  {
   "cell_type": "code",
   "execution_count": null,
   "metadata": {
    "collapsed": true
   },
   "outputs": [],
   "source": []
  },
  {
   "cell_type": "code",
   "execution_count": null,
   "metadata": {
    "collapsed": true
   },
   "outputs": [],
   "source": []
  },
  {
   "cell_type": "code",
   "execution_count": null,
   "metadata": {
    "collapsed": true
   },
   "outputs": [],
   "source": []
  },
  {
   "cell_type": "code",
   "execution_count": null,
   "metadata": {
    "collapsed": true
   },
   "outputs": [],
   "source": []
  },
  {
   "cell_type": "code",
   "execution_count": null,
   "metadata": {
    "collapsed": true
   },
   "outputs": [],
   "source": []
  },
  {
   "cell_type": "code",
   "execution_count": null,
   "metadata": {
    "collapsed": true
   },
   "outputs": [],
   "source": []
  },
  {
   "cell_type": "code",
   "execution_count": null,
   "metadata": {
    "collapsed": true
   },
   "outputs": [],
   "source": []
  },
  {
   "cell_type": "code",
   "execution_count": null,
   "metadata": {
    "collapsed": true
   },
   "outputs": [],
   "source": []
  },
  {
   "cell_type": "code",
   "execution_count": null,
   "metadata": {
    "collapsed": true
   },
   "outputs": [],
   "source": []
  },
  {
   "cell_type": "code",
   "execution_count": null,
   "metadata": {
    "collapsed": true
   },
   "outputs": [],
   "source": []
  },
  {
   "cell_type": "code",
   "execution_count": null,
   "metadata": {
    "collapsed": true
   },
   "outputs": [],
   "source": []
  },
  {
   "cell_type": "code",
   "execution_count": null,
   "metadata": {
    "collapsed": true
   },
   "outputs": [],
   "source": []
  }
 ],
 "metadata": {
  "kernelspec": {
   "display_name": "Python 2",
   "language": "python",
   "name": "python2"
  },
  "language_info": {
   "codemirror_mode": {
    "name": "ipython",
    "version": 2
   },
   "file_extension": ".py",
   "mimetype": "text/x-python",
   "name": "python",
   "nbconvert_exporter": "python",
   "pygments_lexer": "ipython2",
   "version": "2.7.13"
  }
 },
 "nbformat": 4,
 "nbformat_minor": 2
}
