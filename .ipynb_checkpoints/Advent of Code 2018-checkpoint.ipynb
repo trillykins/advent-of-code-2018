{
 "cells": [
  {
   "cell_type": "markdown",
   "metadata": {},
   "source": [
    "# Day 1"
   ]
  },
  {
   "cell_type": "code",
   "execution_count": 30,
   "metadata": {},
   "outputs": [
    {
     "name": "stdout",
     "output_type": "stream",
     "text": [
      "516\n"
     ]
    }
   ],
   "source": [
    "print sum([int(line) for line in open(\"day1.txt\", \"r\").readlines()])"
   ]
  },
  {
   "cell_type": "code",
   "execution_count": 44,
   "metadata": {},
   "outputs": [
    {
     "name": "stdout",
     "output_type": "stream",
     "text": [
      "71892\n"
     ]
    }
   ],
   "source": [
    "import time\n",
    "freq = 0\n",
    "freqs = {}\n",
    "found = False\n",
    "lines = open(\"day1.txt\", \"r\").readlines()\n",
    "while found == False:\n",
    "    for a in lines:\n",
    "        freq += int(a)\n",
    "        if freq in freqs:\n",
    "            print freq\n",
    "            found = True\n",
    "            break;\n",
    "        else:\n",
    "            freqs[freq] = 1"
   ]
  },
  {
   "cell_type": "markdown",
   "metadata": {},
   "source": [
    "# Day 2"
   ]
  },
  {
   "cell_type": "code",
   "execution_count": 67,
   "metadata": {},
   "outputs": [
    {
     "name": "stdout",
     "output_type": "stream",
     "text": [
      "7688\n"
     ]
    }
   ],
   "source": [
    "a = 0\n",
    "b = 0\n",
    "lines = open(\"day2.txt\", \"r\").readlines()\n",
    "for line in lines:\n",
    "    a_found = False\n",
    "    b_found = False \n",
    "    for char in list(set(line)):\n",
    "        if line.count(char) == 2 and a_found == False:\n",
    "            a += 1\n",
    "            a_found = True\n",
    "        if line.count(char) == 3 and b_found == False:\n",
    "            b += 1\n",
    "            b_found = True\n",
    "\n",
    "print a * b"
   ]
  },
  {
   "cell_type": "code",
   "execution_count": 64,
   "metadata": {},
   "outputs": [
    {
     "name": "stdout",
     "output_type": "stream",
     "text": [
      "lsrivmotzbdxpkxnaqmuwcchj\n"
     ]
    }
   ],
   "source": [
    "lines = open(\"day2.txt\", \"r\").readlines()\n",
    "found = False\n",
    "for a in lines:\n",
    "    for b in lines:\n",
    "        diff = [i for i in xrange(len(a.strip())) if a[i] != b[i]]\n",
    "        if len(diff) == 1:\n",
    "            print a[:22] + a[23:].strip()\n",
    "            found = True\n",
    "    if found:\n",
    "        break"
   ]
  },
  {
   "cell_type": "markdown",
   "metadata": {},
   "source": [
    "# Day 3"
   ]
  },
  {
   "cell_type": "code",
   "execution_count": 20,
   "metadata": {},
   "outputs": [
    {
     "name": "stdout",
     "output_type": "stream",
     "text": [
      "110891\n"
     ]
    }
   ],
   "source": [
    "overlaps = {}\n",
    "\n",
    "for a in open(\"day3.txt\", \"r\").readlines():\n",
    "    left, top = a[a.find('@')+1:a.find(':')].strip().split(',')\n",
    "    width, height = a[a.find(':')+1:].strip().split('x')\n",
    "    for i in range(int(left), int(left) + int(width), 1):\n",
    "        for j in range(int(top), int(top) + int(height), 1):\n",
    "            if (i, j) in overlaps:\n",
    "                overlaps[(i, j)] = 1\n",
    "            else:\n",
    "                overlaps[i, j] = 0\n",
    "print sum(overlaps.values())"
   ]
  },
  {
   "cell_type": "code",
   "execution_count": 10,
   "metadata": {},
   "outputs": [
    {
     "name": "stdout",
     "output_type": "stream",
     "text": [
      "#297\n"
     ]
    }
   ],
   "source": [
    "all_claims = set()\n",
    "claims = set()\n",
    "overlaps = {}\n",
    "splat = set()\n",
    "for a in open(\"day3.txt\", \"r\").readlines():\n",
    "    claim = a[:a.find('@')].strip()\n",
    "    all_claims.add(claim)\n",
    "    left, top = a[a.find('@')+1:a.find(':')].strip().split(',')\n",
    "    width, height = a[a.find(':')+1:].strip().split('x')\n",
    "    for i in range(int(left), int(left) + int(width), 1):\n",
    "        for j in range(int(top), int(top) + int(height), 1):\n",
    "            if (i, j) in overlaps:\n",
    "                splat.add(claim)\n",
    "                for a in overlaps[(i,j)]:\n",
    "                    splat.add(a)\n",
    "            else:\n",
    "                overlaps[i, j] = set([claim])\n",
    "print list(all_claims - splat)[0]"
   ]
  },
  {
   "cell_type": "markdown",
   "metadata": {
    "collapsed": true
   },
   "source": [
    "# Day 4"
   ]
  },
  {
   "cell_type": "code",
   "execution_count": 1,
   "metadata": {
    "scrolled": false
   },
   "outputs": [
    {
     "name": "stdout",
     "output_type": "stream",
     "text": [
      "Sleepiest guard: #179\n",
      "Sleepiest minute: 50\n",
      "Result: 8950\n"
     ]
    }
   ],
   "source": [
    "from datetime import datetime\n",
    "import operator\n",
    "import time\n",
    "\n",
    "guards = dict()\n",
    "guards_total = dict()\n",
    "\n",
    "dates = [x.strip() for x in open(\"day4.txt\", \"r\").readlines()]\n",
    "dates.sort()\n",
    "\n",
    "guard = \"\"\n",
    "for a in dates:\n",
    "    s = a.strip().split(' ')\n",
    "    if s[2] == \"Guard\":\n",
    "        guard = s[3]\n",
    "    elif s[2] == \"falls\":\n",
    "        asleep = int(a[15:17])\n",
    "    elif s[2] == \"wakes\":\n",
    "        awake = int(a[15:17])  #datetime.strptime(a[1:17], '%Y-%m-%d %H:%M')\n",
    "        if guard in guards:\n",
    "            for b in [x for x in range(asleep, awake)]:\n",
    "                guards[guard].append(b)\n",
    "            guards_total[guard] += awake-asleep\n",
    "        else:\n",
    "            guards[guard] = [x for x in range(asleep, awake)]\n",
    "            guards_total[guard] = awake-asleep\n",
    "\n",
    "largest = 0\n",
    "doodle = list()\n",
    "guard = \"\"\n",
    "for a in guards:\n",
    "    if guards_total[a] > largest:\n",
    "        largest = guards_total[a]\n",
    "        guard = a\n",
    "        doodle = guards[a]\n",
    "\n",
    "print \"Sleepiest guard:\", guard        \n",
    "largest = 0        \n",
    "#for a in set(guards[guard]):\n",
    "#    print a, int(guards[guard].count(a))\n",
    "\n",
    "bla = dict()\n",
    "for a in set(doodle):\n",
    "    bla[a] = int(doodle.count(a))\n",
    "print \"Sleepiest minute:\", int(max(zip(bla.values(), bla.keys()))[1])\n",
    "print \"Result:\", int(max(zip(bla.values(), bla.keys()))[1]) * int(guard[1:])"
   ]
  },
  {
   "cell_type": "code",
   "execution_count": 34,
   "metadata": {},
   "outputs": [
    {
     "name": "stdout",
     "output_type": "stream",
     "text": [
      "#1783 17\n",
      "78452\n"
     ]
    }
   ],
   "source": [
    "from datetime import datetime\n",
    "import operator\n",
    "import time\n",
    "\n",
    "guards = dict()\n",
    "\n",
    "dates = [x.strip() for x in open(\"day4.txt\", \"r\").readlines()]\n",
    "dates.sort()\n",
    "\n",
    "guard = \"\"\n",
    "for a in dates:\n",
    "    s = a.strip().split(' ')\n",
    "    if s[2] == \"Guard\":\n",
    "        guard = s[3]\n",
    "    elif s[2] == \"falls\":\n",
    "        asleep = int(a[15:17])\n",
    "    elif s[2] == \"wakes\":\n",
    "        awake = int(a[15:17])  #datetime.strptime(a[1:17], '%Y-%m-%d %H:%M')\n",
    "        if guard in guards:\n",
    "            for b in [x for x in range(asleep, awake)]:\n",
    "                guards[guard].append(b)\n",
    "        else:\n",
    "            guards[guard] = [x for x in range(asleep, awake)]\n",
    "\n",
    "no = 0\n",
    "largest = 0\n",
    "doodle = list()\n",
    "guard = \"\"\n",
    "for a in range(0, 60):\n",
    "    for b in guards:\n",
    "        if guards[b].count(a) > largest:\n",
    "            largest = guards[b].count(a)\n",
    "            no = a\n",
    "            guard = b\n",
    "            doodle = guards[b]\n",
    "print guard, largest\n",
    "print \"Result:\", int(guard[1:]) * no"
   ]
  },
  {
   "cell_type": "markdown",
   "metadata": {
    "collapsed": true
   },
   "source": [
    "# Day 5"
   ]
  },
  {
   "cell_type": "code",
   "execution_count": 77,
   "metadata": {},
   "outputs": [
    {
     "name": "stdout",
     "output_type": "stream",
     "text": [
      "11310\n"
     ]
    }
   ],
   "source": [
    "l = open(\"day5.txt\", \"r\").readlines()[0]\n",
    "\n",
    "c = list(set([x.lower() for x in set(l)]))\n",
    "c.sort()\n",
    "\n",
    "prev_size = len(l) + 1\n",
    "while prev_size != len(l):\n",
    "    prev_size = len(l)\n",
    "    for a in c:\n",
    "        l = l.replace(a.upper() + a, \"\")\n",
    "        l = l.replace(a + a.upper(), \"\")\n",
    "print len(l)"
   ]
  },
  {
   "cell_type": "code",
   "execution_count": 80,
   "metadata": {},
   "outputs": [
    {
     "name": "stdout",
     "output_type": "stream",
     "text": [
      "x 6020\n"
     ]
    }
   ],
   "source": [
    "lines = open(\"day5.txt\", \"r\").readlines()[0]\n",
    "\n",
    "c = list(set([x.lower() for x in set(lines)]))\n",
    "c.sort()\n",
    "\n",
    "results = dict()\n",
    "for b in c:\n",
    "    l = ''.join([x for x in lines if x.lower() != b])\n",
    "    prev_size = -1\n",
    "    while prev_size != len(l):\n",
    "        prev_size = len(l)\n",
    "        for a in c:\n",
    "            l = l.replace(a.upper() + a, \"\")\n",
    "            l = l.replace(a + a.upper(), \"\")\n",
    "    #print b, len(l)\n",
    "    results[b] = len(l)\n",
    "result = min(results, key=results.get)\n",
    "print result, results[result]"
   ]
  },
  {
   "cell_type": "markdown",
   "metadata": {
    "collapsed": true
   },
   "source": [
    "# [Day 6](https://adventofcode.com/2018/day/6)"
   ]
  },
  {
   "cell_type": "code",
   "execution_count": 96,
   "metadata": {},
   "outputs": [
    {
     "name": "stdout",
     "output_type": "stream",
     "text": [
      "40 42\n",
      "358 350\n"
     ]
    }
   ],
   "source": [
    "lines = [x.strip() for x in open(\"day6.txt\", \"r\").readlines()]\n",
    "\n",
    "x = [int(x.split(',')[0]) for x in lines]\n",
    "y = [int(y.split(',')[1]) for y in lines]\n",
    "\n",
    "print min(x), min(y)\n",
    "print max(x), max(y)\n",
    "\n",
    "result = dict()\n",
    "for a in range(min(x), max(x)+1):\n",
    "    for b in range(min(y), max(y)+1):\n",
    "        shortest_value = 10000000000\n",
    "        shortest_key = (-1, -1)\n",
    "        for c, d in zip(x, y):\n",
    "            s = abs(a-c) + abs(b-d)\n",
    "            if shortest_value > s:\n",
    "                shortest_key = (c, d)\n",
    "                shortest_value = s\n",
    "            elif shortest_value == s:\n",
    "                shortest_key = (-1, -1)\n",
    "        result[(a,b)] = shortest_key"
   ]
  },
  {
   "cell_type": "code",
   "execution_count": 101,
   "metadata": {
    "scrolled": false
   },
   "outputs": [
    {
     "name": "stdout",
     "output_type": "stream",
     "text": [
      "4290\n"
     ]
    }
   ],
   "source": [
    "r = result.copy()\n",
    "to_delete = set()\n",
    "for key, value in result.iteritems():\n",
    "    if key[0] == min(x) or key[0] == max(x) or key[1] == min(y) or key[1] == max(y):\n",
    "        to_delete.add(value)\n",
    "\n",
    "for key, value in result.iteritems():\n",
    "    if value in to_delete:\n",
    "        del r[key]\n",
    "print max([r.values().count(a) for a in set(r.values())])"
   ]
  },
  {
   "cell_type": "code",
   "execution_count": null,
   "metadata": {},
   "outputs": [],
   "source": []
  },
  {
   "cell_type": "code",
   "execution_count": null,
   "metadata": {
    "collapsed": true
   },
   "outputs": [],
   "source": []
  },
  {
   "cell_type": "code",
   "execution_count": null,
   "metadata": {
    "collapsed": true
   },
   "outputs": [],
   "source": []
  },
  {
   "cell_type": "code",
   "execution_count": null,
   "metadata": {
    "collapsed": true
   },
   "outputs": [],
   "source": []
  },
  {
   "cell_type": "code",
   "execution_count": null,
   "metadata": {
    "collapsed": true
   },
   "outputs": [],
   "source": []
  },
  {
   "cell_type": "code",
   "execution_count": null,
   "metadata": {
    "collapsed": true
   },
   "outputs": [],
   "source": []
  },
  {
   "cell_type": "code",
   "execution_count": null,
   "metadata": {
    "collapsed": true
   },
   "outputs": [],
   "source": []
  },
  {
   "cell_type": "code",
   "execution_count": null,
   "metadata": {
    "collapsed": true
   },
   "outputs": [],
   "source": []
  },
  {
   "cell_type": "code",
   "execution_count": null,
   "metadata": {
    "collapsed": true
   },
   "outputs": [],
   "source": []
  },
  {
   "cell_type": "code",
   "execution_count": null,
   "metadata": {
    "collapsed": true
   },
   "outputs": [],
   "source": []
  }
 ],
 "metadata": {
  "kernelspec": {
   "display_name": "Python 2",
   "language": "python",
   "name": "python2"
  },
  "language_info": {
   "codemirror_mode": {
    "name": "ipython",
    "version": 2
   },
   "file_extension": ".py",
   "mimetype": "text/x-python",
   "name": "python",
   "nbconvert_exporter": "python",
   "pygments_lexer": "ipython2",
   "version": "2.7.15"
  }
 },
 "nbformat": 4,
 "nbformat_minor": 2
}
